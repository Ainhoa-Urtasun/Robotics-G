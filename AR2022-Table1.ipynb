{
 "cells": [
  {
   "cell_type": "code",
   "execution_count": 16,
   "id": "afa91522",
   "metadata": {},
   "outputs": [],
   "source": [
    "import pandas\n",
    "import numpy\n",
    "import statsmodels.api as sm"
   ]
  },
  {
   "cell_type": "code",
   "execution_count": 4,
   "id": "b7d0b7f3",
   "metadata": {},
   "outputs": [
    {
     "name": "stdout",
     "output_type": "stream",
     "text": [
      "Index(['industry_ifr19', 'apr_us_adj04_07_', 'apr_us_adj04_14_',\n",
      "       'apr_us_adj04_10_', 'apr_us_lv04_07_', 'apr_us_lv04_14_',\n",
      "       'apr_us_lv04_10_', 'apr_euro5_qo93_00_', 'apr_euro5_qo93_07_',\n",
      "       'apr_euro5_qo93_10_',\n",
      "       ...\n",
      "       'task_offshore', 'task_routine_manuf', 'task_routine',\n",
      "       'capital_qty_90_07', 'capital_qty_00_07', 'capital_qty_90_00',\n",
      "       'itcapital_qty_90_07', 'itcapital_qty_00_07', 'itcapital_qty_90_00',\n",
      "       'indname'],\n",
      "      dtype='object', length=174)\n"
     ]
    }
   ],
   "source": [
    "table1 = pandas.read_stata('industry_data_ifr19.dta')\n",
    "table1.columns"
   ]
  },
  {
   "cell_type": "code",
   "execution_count": 18,
   "id": "307e02fc",
   "metadata": {},
   "outputs": [],
   "source": [
    "# use \"${project}/clean_data/industry_data_ifr19\"\n",
    "table1 = table1.copy()\n",
    "table1['change_robots']=table1['apr_euro5_qo93_07_']\n",
    "table1['intercept'] = 1\n",
    "\n",
    "# Column 1: CBP log employment\n",
    "table1['depvar'] = 100*(numpy.log(table1['cbp_emp2007'])-numpy.log(table1['cbp_emp1993']))"
   ]
  },
  {
   "cell_type": "code",
   "execution_count": 15,
   "id": "b4b94896",
   "metadata": {},
   "outputs": [
    {
     "data": {
      "text/plain": [
       "0     7.127580e+05\n",
       "1     9.239748e+05\n",
       "2     4.565579e+06\n",
       "3     2.521842e+06\n",
       "4     1.492613e+06\n",
       "5     1.067571e+06\n",
       "6     3.755010e+05\n",
       "7     8.922348e+05\n",
       "8     1.497157e+06\n",
       "9     1.027134e+06\n",
       "10    4.716390e+05\n",
       "11    5.170850e+05\n",
       "12    2.128326e+06\n",
       "13    1.898043e+06\n",
       "14    1.574111e+06\n",
       "15    6.644994e+07\n",
       "16    1.613644e+06\n",
       "17    9.243730e+05\n",
       "18    8.789780e+05\n",
       "Name: cbp_emp1993, dtype: float64"
      ]
     },
     "execution_count": 15,
     "metadata": {},
     "output_type": "execute_result"
    }
   ],
   "source": [
    "table1['cbp_emp1993']"
   ]
  },
  {
   "cell_type": "code",
   "execution_count": 20,
   "id": "dd9846a3",
   "metadata": {},
   "outputs": [
    {
     "name": "stdout",
     "output_type": "stream",
     "text": [
      "                            WLS Regression Results                            \n",
      "==============================================================================\n",
      "Dep. Variable:                 depvar   R-squared:                       0.123\n",
      "Model:                            WLS   Adj. R-squared:                  0.071\n",
      "Method:                 Least Squares   F-statistic:                     2.385\n",
      "Date:                Wed, 23 Aug 2023   Prob (F-statistic):              0.141\n",
      "Time:                        08:10:01   Log-Likelihood:                -99.009\n",
      "No. Observations:                  19   AIC:                             202.0\n",
      "Df Residuals:                      17   BIC:                             203.9\n",
      "Df Model:                           1                                         \n",
      "Covariance Type:            nonrobust                                         \n",
      "=================================================================================\n",
      "                    coef    std err          t      P>|t|      [0.025      0.975]\n",
      "---------------------------------------------------------------------------------\n",
      "change_robots    -1.9674      1.274     -1.544      0.141      -4.655       0.720\n",
      "intercept        24.1292      6.066      3.978      0.001      11.332      36.927\n",
      "==============================================================================\n",
      "Omnibus:                       11.531   Durbin-Watson:                   1.953\n",
      "Prob(Omnibus):                  0.003   Jarque-Bera (JB):                9.326\n",
      "Skew:                          -1.251   Prob(JB):                      0.00944\n",
      "Kurtosis:                       5.349   Cond. No.                         4.95\n",
      "==============================================================================\n",
      "\n",
      "Notes:\n",
      "[1] Standard Errors assume that the covariance matrix of the errors is correctly specified.\n"
     ]
    },
    {
     "name": "stderr",
     "output_type": "stream",
     "text": [
      "C:\\Users\\ainhoa.urtasun\\AppData\\Local\\Programs\\Python\\Python310\\lib\\site-packages\\scipy\\stats\\_stats_py.py:1769: UserWarning: kurtosistest only valid for n>=20 ... continuing anyway, n=19\n",
      "  warnings.warn(\"kurtosistest only valid for n>=20 ... continuing \"\n"
     ]
    }
   ],
   "source": [
    "model = sm.WLS(table1['depvar'],table1[['change_robots','intercept']],weights=table1['cbp_emp1993'])\n",
    "res = model.fit()\n",
    "print(res.summary())"
   ]
  },
  {
   "cell_type": "code",
   "execution_count": null,
   "id": "85fa2318",
   "metadata": {},
   "outputs": [],
   "source": []
  }
 ],
 "metadata": {
  "kernelspec": {
   "display_name": "Python 3 (ipykernel)",
   "language": "python",
   "name": "python3"
  },
  "language_info": {
   "codemirror_mode": {
    "name": "ipython",
    "version": 3
   },
   "file_extension": ".py",
   "mimetype": "text/x-python",
   "name": "python",
   "nbconvert_exporter": "python",
   "pygments_lexer": "ipython3",
   "version": "3.10.5"
  }
 },
 "nbformat": 4,
 "nbformat_minor": 5
}
